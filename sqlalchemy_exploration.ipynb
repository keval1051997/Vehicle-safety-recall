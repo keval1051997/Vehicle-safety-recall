{
 "cells": [
  {
   "cell_type": "markdown",
   "metadata": {},
   "source": [
    "## Data Exploration with SQLAlchemy"
   ]
  },
  {
   "cell_type": "code",
   "execution_count": null,
   "metadata": {},
   "outputs": [],
   "source": [
    "pip install psycopg2-binary "
   ]
  },
  {
   "cell_type": "code",
   "execution_count": 3,
   "metadata": {},
   "outputs": [
    {
     "ename": "ModuleNotFoundError",
     "evalue": "No module named 'pandas'",
     "output_type": "error",
     "traceback": [
      "\u001b[0;31m---------------------------------------------------------------------------\u001b[0m",
      "\u001b[0;31mModuleNotFoundError\u001b[0m                       Traceback (most recent call last)",
      "Cell \u001b[0;32mIn[3], line 1\u001b[0m\n\u001b[0;32m----> 1\u001b[0m \u001b[39mimport\u001b[39;00m \u001b[39mpandas\u001b[39;00m \u001b[39mas\u001b[39;00m \u001b[39mpd\u001b[39;00m\n\u001b[1;32m      2\u001b[0m \u001b[39mfrom\u001b[39;00m \u001b[39msqlalchemy\u001b[39;00m \u001b[39mimport\u001b[39;00m create_engine\n\u001b[1;32m      4\u001b[0m \u001b[39mfrom\u001b[39;00m \u001b[39mconfig\u001b[39;00m \u001b[39mimport\u001b[39;00m username, password, hostname, port, db\n",
      "\u001b[0;31mModuleNotFoundError\u001b[0m: No module named 'pandas'"
     ]
    }
   ],
   "source": [
    "import pandas as pd\n",
    "from sqlalchemy import create_engine\n",
    "\n",
    "from config import username, password, hostname, port, db\n",
    "\n",
    "print(username, password, hostname, port, db)\n",
    "\n"
   ]
  },
  {
   "cell_type": "code",
   "execution_count": null,
   "metadata": {},
   "outputs": [],
   "source": [
    "!ls"
   ]
  },
  {
   "cell_type": "code",
   "execution_count": 3,
   "metadata": {},
   "outputs": [],
   "source": [
    "# Create engine to Postgres db with credentials\n",
    "engine = create_engine(f'postgresql+psycopg2://{username}:{password}@{hostname}:{port}/{db}')\n",
    "conn = engine.connect()"
   ]
  },
  {
   "cell_type": "code",
   "execution_count": 4,
   "metadata": {},
   "outputs": [
    {
     "data": {
      "text/html": [
       "<div>\n",
       "<style scoped>\n",
       "    .dataframe tbody tr th:only-of-type {\n",
       "        vertical-align: middle;\n",
       "    }\n",
       "\n",
       "    .dataframe tbody tr th {\n",
       "        vertical-align: top;\n",
       "    }\n",
       "\n",
       "    .dataframe thead th {\n",
       "        text-align: right;\n",
       "    }\n",
       "</style>\n",
       "<table border=\"1\" class=\"dataframe\">\n",
       "  <thead>\n",
       "    <tr style=\"text-align: right;\">\n",
       "      <th></th>\n",
       "      <th>component</th>\n",
       "      <th>sum_pa</th>\n",
       "    </tr>\n",
       "  </thead>\n",
       "  <tbody>\n",
       "    <tr>\n",
       "      <th>0</th>\n",
       "      <td>AIR BAGS</td>\n",
       "      <td>218263540.0</td>\n",
       "    </tr>\n",
       "    <tr>\n",
       "      <th>1</th>\n",
       "      <td>ELECTRICAL SYSTEM</td>\n",
       "      <td>50629130.0</td>\n",
       "    </tr>\n",
       "    <tr>\n",
       "      <th>2</th>\n",
       "      <td>LATCHES/LOCKS/LINKAGES</td>\n",
       "      <td>24218946.0</td>\n",
       "    </tr>\n",
       "    <tr>\n",
       "      <th>3</th>\n",
       "      <td>FUEL SYSTEM</td>\n",
       "      <td>23462033.0</td>\n",
       "    </tr>\n",
       "    <tr>\n",
       "      <th>4</th>\n",
       "      <td>POWER TRAIN</td>\n",
       "      <td>23240709.0</td>\n",
       "    </tr>\n",
       "    <tr>\n",
       "      <th>5</th>\n",
       "      <td>SERVICE BRAKES</td>\n",
       "      <td>22879926.0</td>\n",
       "    </tr>\n",
       "    <tr>\n",
       "      <th>6</th>\n",
       "      <td>EQUIPMENT</td>\n",
       "      <td>18791394.0</td>\n",
       "    </tr>\n",
       "    <tr>\n",
       "      <th>7</th>\n",
       "      <td>EXTERIOR LIGHTING</td>\n",
       "      <td>18436529.0</td>\n",
       "    </tr>\n",
       "    <tr>\n",
       "      <th>8</th>\n",
       "      <td>ENGINE</td>\n",
       "      <td>15951903.0</td>\n",
       "    </tr>\n",
       "    <tr>\n",
       "      <th>9</th>\n",
       "      <td>VISIBILITY</td>\n",
       "      <td>14972099.0</td>\n",
       "    </tr>\n",
       "    <tr>\n",
       "      <th>10</th>\n",
       "      <td>SEAT BELTS</td>\n",
       "      <td>14109337.0</td>\n",
       "    </tr>\n",
       "    <tr>\n",
       "      <th>11</th>\n",
       "      <td>STEERING</td>\n",
       "      <td>13677191.0</td>\n",
       "    </tr>\n",
       "    <tr>\n",
       "      <th>12</th>\n",
       "      <td>SUSPENSION</td>\n",
       "      <td>10693804.0</td>\n",
       "    </tr>\n",
       "    <tr>\n",
       "      <th>13</th>\n",
       "      <td>CHILD SEAT</td>\n",
       "      <td>10197975.0</td>\n",
       "    </tr>\n",
       "    <tr>\n",
       "      <th>14</th>\n",
       "      <td>STRUCTURE</td>\n",
       "      <td>8774443.0</td>\n",
       "    </tr>\n",
       "    <tr>\n",
       "      <th>15</th>\n",
       "      <td>BACK OVER PREVENTION</td>\n",
       "      <td>7335357.0</td>\n",
       "    </tr>\n",
       "    <tr>\n",
       "      <th>16</th>\n",
       "      <td>TIRES</td>\n",
       "      <td>6986520.0</td>\n",
       "    </tr>\n",
       "    <tr>\n",
       "      <th>17</th>\n",
       "      <td>SEATS</td>\n",
       "      <td>6385861.0</td>\n",
       "    </tr>\n",
       "    <tr>\n",
       "      <th>18</th>\n",
       "      <td>ELECTRONIC STABILITY CONTROL</td>\n",
       "      <td>3820258.0</td>\n",
       "    </tr>\n",
       "    <tr>\n",
       "      <th>19</th>\n",
       "      <td>PARKING BRAKE</td>\n",
       "      <td>1807037.0</td>\n",
       "    </tr>\n",
       "    <tr>\n",
       "      <th>20</th>\n",
       "      <td>HYBRID PROPULSION SYSTEM</td>\n",
       "      <td>1626687.0</td>\n",
       "    </tr>\n",
       "    <tr>\n",
       "      <th>21</th>\n",
       "      <td>COMMUNICATION</td>\n",
       "      <td>1573041.0</td>\n",
       "    </tr>\n",
       "    <tr>\n",
       "      <th>22</th>\n",
       "      <td>WHEELS</td>\n",
       "      <td>937219.0</td>\n",
       "    </tr>\n",
       "    <tr>\n",
       "      <th>23</th>\n",
       "      <td>VEHICLE SPEED CONTROL</td>\n",
       "      <td>765202.0</td>\n",
       "    </tr>\n",
       "    <tr>\n",
       "      <th>24</th>\n",
       "      <td>TRAILER HITCHES</td>\n",
       "      <td>720931.0</td>\n",
       "    </tr>\n",
       "    <tr>\n",
       "      <th>25</th>\n",
       "      <td>FORWARD COLLISION AVOIDANCE</td>\n",
       "      <td>557783.0</td>\n",
       "    </tr>\n",
       "    <tr>\n",
       "      <th>26</th>\n",
       "      <td>INTERIOR LIGHTING</td>\n",
       "      <td>33534.0</td>\n",
       "    </tr>\n",
       "    <tr>\n",
       "      <th>27</th>\n",
       "      <td>LANE DEPARTURE</td>\n",
       "      <td>17751.0</td>\n",
       "    </tr>\n",
       "    <tr>\n",
       "      <th>28</th>\n",
       "      <td>TRACTION CONTROL SYSTEM</td>\n",
       "      <td>12704.0</td>\n",
       "    </tr>\n",
       "    <tr>\n",
       "      <th>29</th>\n",
       "      <td>UNKNOWN OR OTHER</td>\n",
       "      <td>12159.0</td>\n",
       "    </tr>\n",
       "  </tbody>\n",
       "</table>\n",
       "</div>"
      ],
      "text/plain": [
       "                       component       sum_pa\n",
       "0                       AIR BAGS  218263540.0\n",
       "1              ELECTRICAL SYSTEM   50629130.0\n",
       "2         LATCHES/LOCKS/LINKAGES   24218946.0\n",
       "3                    FUEL SYSTEM   23462033.0\n",
       "4                    POWER TRAIN   23240709.0\n",
       "5                 SERVICE BRAKES   22879926.0\n",
       "6                      EQUIPMENT   18791394.0\n",
       "7              EXTERIOR LIGHTING   18436529.0\n",
       "8                         ENGINE   15951903.0\n",
       "9                     VISIBILITY   14972099.0\n",
       "10                    SEAT BELTS   14109337.0\n",
       "11                      STEERING   13677191.0\n",
       "12                    SUSPENSION   10693804.0\n",
       "13                    CHILD SEAT   10197975.0\n",
       "14                     STRUCTURE    8774443.0\n",
       "15          BACK OVER PREVENTION    7335357.0\n",
       "16                         TIRES    6986520.0\n",
       "17                         SEATS    6385861.0\n",
       "18  ELECTRONIC STABILITY CONTROL    3820258.0\n",
       "19                 PARKING BRAKE    1807037.0\n",
       "20      HYBRID PROPULSION SYSTEM    1626687.0\n",
       "21                 COMMUNICATION    1573041.0\n",
       "22                        WHEELS     937219.0\n",
       "23         VEHICLE SPEED CONTROL     765202.0\n",
       "24               TRAILER HITCHES     720931.0\n",
       "25   FORWARD COLLISION AVOIDANCE     557783.0\n",
       "26             INTERIOR LIGHTING      33534.0\n",
       "27                LANE DEPARTURE      17751.0\n",
       "28       TRACTION CONTROL SYSTEM      12704.0\n",
       "29              UNKNOWN OR OTHER      12159.0"
      ]
     },
     "execution_count": 4,
     "metadata": {},
     "output_type": "execute_result"
    }
   ],
   "source": [
    "# First query\n",
    "# Sum of recalls (desc) grouped by 'component'\n",
    "query1 = \"select component, sum(cast(potentially_affected as float)) as sum_pa \\\n",
    "    from recalls group by component order by sum_pa desc\"\n",
    "df1 = pd.read_sql(query1, conn)\n",
    "df1"
   ]
  },
  {
   "cell_type": "code",
   "execution_count": 5,
   "metadata": {},
   "outputs": [
    {
     "data": {
      "text/plain": [
       "'[{\"component\":\"AIR BAGS\",\"sum_pa\":218263540.0},{\"component\":\"ELECTRICAL SYSTEM\",\"sum_pa\":50629130.0},{\"component\":\"LATCHES\\\\/LOCKS\\\\/LINKAGES\",\"sum_pa\":24218946.0},{\"component\":\"FUEL SYSTEM\",\"sum_pa\":23462033.0},{\"component\":\"POWER TRAIN\",\"sum_pa\":23240709.0},{\"component\":\"SERVICE BRAKES\",\"sum_pa\":22879926.0},{\"component\":\"EQUIPMENT\",\"sum_pa\":18791394.0},{\"component\":\"EXTERIOR LIGHTING\",\"sum_pa\":18436529.0},{\"component\":\"ENGINE\",\"sum_pa\":15951903.0},{\"component\":\"VISIBILITY\",\"sum_pa\":14972099.0},{\"component\":\"SEAT BELTS\",\"sum_pa\":14109337.0},{\"component\":\"STEERING\",\"sum_pa\":13677191.0},{\"component\":\"SUSPENSION\",\"sum_pa\":10693804.0},{\"component\":\"CHILD SEAT\",\"sum_pa\":10197975.0},{\"component\":\"STRUCTURE\",\"sum_pa\":8774443.0},{\"component\":\"BACK OVER PREVENTION\",\"sum_pa\":7335357.0},{\"component\":\"TIRES\",\"sum_pa\":6986520.0},{\"component\":\"SEATS\",\"sum_pa\":6385861.0},{\"component\":\"ELECTRONIC STABILITY CONTROL\",\"sum_pa\":3820258.0},{\"component\":\"PARKING BRAKE\",\"sum_pa\":1807037.0},{\"component\":\"HYBRID PROPULSION SYSTEM\",\"sum_pa\":1626687.0},{\"component\":\"COMMUNICATION\",\"sum_pa\":1573041.0},{\"component\":\"WHEELS\",\"sum_pa\":937219.0},{\"component\":\"VEHICLE SPEED CONTROL\",\"sum_pa\":765202.0},{\"component\":\"TRAILER HITCHES\",\"sum_pa\":720931.0},{\"component\":\"FORWARD COLLISION AVOIDANCE\",\"sum_pa\":557783.0},{\"component\":\"INTERIOR LIGHTING\",\"sum_pa\":33534.0},{\"component\":\"LANE DEPARTURE\",\"sum_pa\":17751.0},{\"component\":\"TRACTION CONTROL SYSTEM\",\"sum_pa\":12704.0},{\"component\":\"UNKNOWN OR OTHER\",\"sum_pa\":12159.0}]'"
      ]
     },
     "execution_count": 5,
     "metadata": {},
     "output_type": "execute_result"
    }
   ],
   "source": [
    "# Review json conversion of df1\n",
    "df1.to_json(orient='records')"
   ]
  },
  {
   "cell_type": "code",
   "execution_count": 6,
   "metadata": {},
   "outputs": [
    {
     "data": {
      "text/plain": [
       "'{\"component\":{\"0\":\"AIR BAGS\",\"1\":\"ELECTRICAL SYSTEM\",\"2\":\"LATCHES\\\\/LOCKS\\\\/LINKAGES\",\"3\":\"FUEL SYSTEM\",\"4\":\"POWER TRAIN\",\"5\":\"SERVICE BRAKES\",\"6\":\"EQUIPMENT\",\"7\":\"EXTERIOR LIGHTING\",\"8\":\"ENGINE\",\"9\":\"VISIBILITY\",\"10\":\"SEAT BELTS\",\"11\":\"STEERING\",\"12\":\"SUSPENSION\",\"13\":\"CHILD SEAT\",\"14\":\"STRUCTURE\",\"15\":\"BACK OVER PREVENTION\",\"16\":\"TIRES\",\"17\":\"SEATS\",\"18\":\"ELECTRONIC STABILITY CONTROL\",\"19\":\"PARKING BRAKE\",\"20\":\"HYBRID PROPULSION SYSTEM\",\"21\":\"COMMUNICATION\",\"22\":\"WHEELS\",\"23\":\"VEHICLE SPEED CONTROL\",\"24\":\"TRAILER HITCHES\",\"25\":\"FORWARD COLLISION AVOIDANCE\",\"26\":\"INTERIOR LIGHTING\",\"27\":\"LANE DEPARTURE\",\"28\":\"TRACTION CONTROL SYSTEM\",\"29\":\"UNKNOWN OR OTHER\"},\"sum_pa\":{\"0\":218263540.0,\"1\":50629130.0,\"2\":24218946.0,\"3\":23462033.0,\"4\":23240709.0,\"5\":22879926.0,\"6\":18791394.0,\"7\":18436529.0,\"8\":15951903.0,\"9\":14972099.0,\"10\":14109337.0,\"11\":13677191.0,\"12\":10693804.0,\"13\":10197975.0,\"14\":8774443.0,\"15\":7335357.0,\"16\":6986520.0,\"17\":6385861.0,\"18\":3820258.0,\"19\":1807037.0,\"20\":1626687.0,\"21\":1573041.0,\"22\":937219.0,\"23\":765202.0,\"24\":720931.0,\"25\":557783.0,\"26\":33534.0,\"27\":17751.0,\"28\":12704.0,\"29\":12159.0}}'"
      ]
     },
     "execution_count": 6,
     "metadata": {},
     "output_type": "execute_result"
    }
   ],
   "source": [
    "df1.to_json(orient='columns')"
   ]
  },
  {
   "cell_type": "code",
   "execution_count": 7,
   "metadata": {},
   "outputs": [
    {
     "data": {
      "text/html": [
       "<div>\n",
       "<style scoped>\n",
       "    .dataframe tbody tr th:only-of-type {\n",
       "        vertical-align: middle;\n",
       "    }\n",
       "\n",
       "    .dataframe tbody tr th {\n",
       "        vertical-align: top;\n",
       "    }\n",
       "\n",
       "    .dataframe thead th {\n",
       "        text-align: right;\n",
       "    }\n",
       "</style>\n",
       "<table border=\"1\" class=\"dataframe\">\n",
       "  <thead>\n",
       "    <tr style=\"text-align: right;\">\n",
       "      <th></th>\n",
       "      <th>0</th>\n",
       "      <th>1</th>\n",
       "      <th>2</th>\n",
       "      <th>3</th>\n",
       "      <th>4</th>\n",
       "      <th>5</th>\n",
       "      <th>6</th>\n",
       "      <th>7</th>\n",
       "      <th>8</th>\n",
       "      <th>9</th>\n",
       "      <th>...</th>\n",
       "      <th>20</th>\n",
       "      <th>21</th>\n",
       "      <th>22</th>\n",
       "      <th>23</th>\n",
       "      <th>24</th>\n",
       "      <th>25</th>\n",
       "      <th>26</th>\n",
       "      <th>27</th>\n",
       "      <th>28</th>\n",
       "      <th>29</th>\n",
       "    </tr>\n",
       "  </thead>\n",
       "  <tbody>\n",
       "    <tr>\n",
       "      <th>component</th>\n",
       "      <td>AIR BAGS</td>\n",
       "      <td>ELECTRICAL SYSTEM</td>\n",
       "      <td>LATCHES/LOCKS/LINKAGES</td>\n",
       "      <td>FUEL SYSTEM</td>\n",
       "      <td>POWER TRAIN</td>\n",
       "      <td>SERVICE BRAKES</td>\n",
       "      <td>EQUIPMENT</td>\n",
       "      <td>EXTERIOR LIGHTING</td>\n",
       "      <td>ENGINE</td>\n",
       "      <td>VISIBILITY</td>\n",
       "      <td>...</td>\n",
       "      <td>HYBRID PROPULSION SYSTEM</td>\n",
       "      <td>COMMUNICATION</td>\n",
       "      <td>WHEELS</td>\n",
       "      <td>VEHICLE SPEED CONTROL</td>\n",
       "      <td>TRAILER HITCHES</td>\n",
       "      <td>FORWARD COLLISION AVOIDANCE</td>\n",
       "      <td>INTERIOR LIGHTING</td>\n",
       "      <td>LANE DEPARTURE</td>\n",
       "      <td>TRACTION CONTROL SYSTEM</td>\n",
       "      <td>UNKNOWN OR OTHER</td>\n",
       "    </tr>\n",
       "    <tr>\n",
       "      <th>sum_pa</th>\n",
       "      <td>218263540.0</td>\n",
       "      <td>50629130.0</td>\n",
       "      <td>24218946.0</td>\n",
       "      <td>23462033.0</td>\n",
       "      <td>23240709.0</td>\n",
       "      <td>22879926.0</td>\n",
       "      <td>18791394.0</td>\n",
       "      <td>18436529.0</td>\n",
       "      <td>15951903.0</td>\n",
       "      <td>14972099.0</td>\n",
       "      <td>...</td>\n",
       "      <td>1626687.0</td>\n",
       "      <td>1573041.0</td>\n",
       "      <td>937219.0</td>\n",
       "      <td>765202.0</td>\n",
       "      <td>720931.0</td>\n",
       "      <td>557783.0</td>\n",
       "      <td>33534.0</td>\n",
       "      <td>17751.0</td>\n",
       "      <td>12704.0</td>\n",
       "      <td>12159.0</td>\n",
       "    </tr>\n",
       "  </tbody>\n",
       "</table>\n",
       "<p>2 rows × 30 columns</p>\n",
       "</div>"
      ],
      "text/plain": [
       "                    0                  1                       2   \\\n",
       "component     AIR BAGS  ELECTRICAL SYSTEM  LATCHES/LOCKS/LINKAGES   \n",
       "sum_pa     218263540.0         50629130.0              24218946.0   \n",
       "\n",
       "                    3            4               5           6   \\\n",
       "component  FUEL SYSTEM  POWER TRAIN  SERVICE BRAKES   EQUIPMENT   \n",
       "sum_pa      23462033.0   23240709.0      22879926.0  18791394.0   \n",
       "\n",
       "                          7           8           9   ...  \\\n",
       "component  EXTERIOR LIGHTING      ENGINE  VISIBILITY  ...   \n",
       "sum_pa            18436529.0  15951903.0  14972099.0  ...   \n",
       "\n",
       "                                 20             21        22  \\\n",
       "component  HYBRID PROPULSION SYSTEM  COMMUNICATION    WHEELS   \n",
       "sum_pa                    1626687.0      1573041.0  937219.0   \n",
       "\n",
       "                              23               24  \\\n",
       "component  VEHICLE SPEED CONTROL  TRAILER HITCHES   \n",
       "sum_pa                  765202.0         720931.0   \n",
       "\n",
       "                                    25                 26              27  \\\n",
       "component  FORWARD COLLISION AVOIDANCE  INTERIOR LIGHTING  LANE DEPARTURE   \n",
       "sum_pa                        557783.0            33534.0         17751.0   \n",
       "\n",
       "                                28                29  \n",
       "component  TRACTION CONTROL SYSTEM  UNKNOWN OR OTHER  \n",
       "sum_pa                     12704.0           12159.0  \n",
       "\n",
       "[2 rows x 30 columns]"
      ]
     },
     "execution_count": 7,
     "metadata": {},
     "output_type": "execute_result"
    }
   ],
   "source": [
    "df1_t = df1.transpose()\n",
    "df1_t"
   ]
  },
  {
   "cell_type": "code",
   "execution_count": 8,
   "metadata": {},
   "outputs": [
    {
     "data": {
      "text/plain": [
       "'[{\"0\":\"AIR BAGS\",\"1\":\"ELECTRICAL SYSTEM\",\"2\":\"LATCHES\\\\/LOCKS\\\\/LINKAGES\",\"3\":\"FUEL SYSTEM\",\"4\":\"POWER TRAIN\",\"5\":\"SERVICE BRAKES\",\"6\":\"EQUIPMENT\",\"7\":\"EXTERIOR LIGHTING\",\"8\":\"ENGINE\",\"9\":\"VISIBILITY\",\"10\":\"SEAT BELTS\",\"11\":\"STEERING\",\"12\":\"SUSPENSION\",\"13\":\"CHILD SEAT\",\"14\":\"STRUCTURE\",\"15\":\"BACK OVER PREVENTION\",\"16\":\"TIRES\",\"17\":\"SEATS\",\"18\":\"ELECTRONIC STABILITY CONTROL\",\"19\":\"PARKING BRAKE\",\"20\":\"HYBRID PROPULSION SYSTEM\",\"21\":\"COMMUNICATION\",\"22\":\"WHEELS\",\"23\":\"VEHICLE SPEED CONTROL\",\"24\":\"TRAILER HITCHES\",\"25\":\"FORWARD COLLISION AVOIDANCE\",\"26\":\"INTERIOR LIGHTING\",\"27\":\"LANE DEPARTURE\",\"28\":\"TRACTION CONTROL SYSTEM\",\"29\":\"UNKNOWN OR OTHER\"},{\"0\":218263540.0,\"1\":50629130.0,\"2\":24218946.0,\"3\":23462033.0,\"4\":23240709.0,\"5\":22879926.0,\"6\":18791394.0,\"7\":18436529.0,\"8\":15951903.0,\"9\":14972099.0,\"10\":14109337.0,\"11\":13677191.0,\"12\":10693804.0,\"13\":10197975.0,\"14\":8774443.0,\"15\":7335357.0,\"16\":6986520.0,\"17\":6385861.0,\"18\":3820258.0,\"19\":1807037.0,\"20\":1626687.0,\"21\":1573041.0,\"22\":937219.0,\"23\":765202.0,\"24\":720931.0,\"25\":557783.0,\"26\":33534.0,\"27\":17751.0,\"28\":12704.0,\"29\":12159.0}]'"
      ]
     },
     "execution_count": 8,
     "metadata": {},
     "output_type": "execute_result"
    }
   ],
   "source": [
    "df1_t.to_json(orient='records')"
   ]
  },
  {
   "cell_type": "markdown",
   "metadata": {},
   "source": [
    "#Second query"
   ]
  },
  {
   "cell_type": "code",
   "execution_count": 9,
   "metadata": {},
   "outputs": [
    {
     "data": {
      "text/html": [
       "<div>\n",
       "<style scoped>\n",
       "    .dataframe tbody tr th:only-of-type {\n",
       "        vertical-align: middle;\n",
       "    }\n",
       "\n",
       "    .dataframe tbody tr th {\n",
       "        vertical-align: top;\n",
       "    }\n",
       "\n",
       "    .dataframe thead th {\n",
       "        text-align: right;\n",
       "    }\n",
       "</style>\n",
       "<table border=\"1\" class=\"dataframe\">\n",
       "  <thead>\n",
       "    <tr style=\"text-align: right;\">\n",
       "      <th></th>\n",
       "      <th>manufacturer</th>\n",
       "      <th>sum</th>\n",
       "    </tr>\n",
       "  </thead>\n",
       "  <tbody>\n",
       "    <tr>\n",
       "      <th>0</th>\n",
       "      <td>Honda (American Honda Motor Co.)</td>\n",
       "      <td>43852895.0</td>\n",
       "    </tr>\n",
       "    <tr>\n",
       "      <th>1</th>\n",
       "      <td>Porsche Cars North America, Inc.</td>\n",
       "      <td>964869.0</td>\n",
       "    </tr>\n",
       "    <tr>\n",
       "      <th>2</th>\n",
       "      <td>BMW of North America, LLC</td>\n",
       "      <td>9381994.0</td>\n",
       "    </tr>\n",
       "    <tr>\n",
       "      <th>3</th>\n",
       "      <td>Volkswagen Group of America, Inc.</td>\n",
       "      <td>11567074.0</td>\n",
       "    </tr>\n",
       "    <tr>\n",
       "      <th>4</th>\n",
       "      <td>Mercedes-Benz USA, LLC</td>\n",
       "      <td>7846242.0</td>\n",
       "    </tr>\n",
       "  </tbody>\n",
       "</table>\n",
       "</div>"
      ],
      "text/plain": [
       "                        manufacturer         sum\n",
       "0   Honda (American Honda Motor Co.)  43852895.0\n",
       "1   Porsche Cars North America, Inc.    964869.0\n",
       "2          BMW of North America, LLC   9381994.0\n",
       "3  Volkswagen Group of America, Inc.  11567074.0\n",
       "4             Mercedes-Benz USA, LLC   7846242.0"
      ]
     },
     "execution_count": 9,
     "metadata": {},
     "output_type": "execute_result"
    }
   ],
   "source": [
    "# Second query\n",
    "# sum of potentially_affected grouped by manufacturers\n",
    "query1 = \"select manufacturer, sum(cast(potentially_affected as float)) \\\n",
    "from recalls \\\n",
    "where manufacturer in ('Mercedes-Benz USA, LLC', 'BMW of North America, LLC','Porsche Cars North America, Inc.',\\\n",
    "'Honda (American Honda Motor Co.)', 'Volkswagen Group of America, Inc.') \\\n",
    "group by manufacturer\"\n",
    "df2 = pd.read_sql(query1, conn)\n",
    "df2"
   ]
  },
  {
   "cell_type": "code",
   "execution_count": 10,
   "metadata": {},
   "outputs": [
    {
     "data": {
      "text/plain": [
       "'[{\"manufacturer\":\"Honda (American Honda Motor Co.)\",\"sum\":43852895.0},{\"manufacturer\":\"Porsche Cars North America, Inc.\",\"sum\":964869.0},{\"manufacturer\":\"BMW of North America, LLC\",\"sum\":9381994.0},{\"manufacturer\":\"Volkswagen Group of America, Inc.\",\"sum\":11567074.0},{\"manufacturer\":\"Mercedes-Benz USA, LLC\",\"sum\":7846242.0}]'"
      ]
     },
     "execution_count": 10,
     "metadata": {},
     "output_type": "execute_result"
    }
   ],
   "source": [
    "# Review json conversion of df2\n",
    "df2.to_json(orient='records')"
   ]
  }
 ],
 "metadata": {
  "kernelspec": {
   "display_name": "Python 3 (ipykernel)",
   "language": "python",
   "name": "python3"
  },
  "language_info": {
   "codemirror_mode": {
    "name": "ipython",
    "version": 3
   },
   "file_extension": ".py",
   "mimetype": "text/x-python",
   "name": "python",
   "nbconvert_exporter": "python",
   "pygments_lexer": "ipython3",
   "version": "3.11.4"
  }
 },
 "nbformat": 4,
 "nbformat_minor": 2
}
